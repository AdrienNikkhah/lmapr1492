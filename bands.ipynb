{
 "cells": [
  {
   "cell_type": "code",
   "execution_count": 5,
   "metadata": {},
   "outputs": [
    {
     "name": "stdout",
     "output_type": "stream",
     "text": [
      "{'direct': False, 'energy': 0.7018, 'transition': '(0.158,0.000,0.000)-L'}\n"
     ]
    }
   ],
   "source": [
    "from pymatgen.electronic_structure.plotter import BSPlotter\n",
    "import numpy as np\n",
    "import scipy.constants as sc\n",
    "import matplotlib.pyplot as plt\n",
    "from pymatgen.ext.matproj import MPRester\n",
    "from pymatgen.io.cif import CifWriter\n",
    "from pymatgen.core.operations import SymmOp\n",
    "with MPRester (\"rdmkQ122BgAvNKpjopTO\") as m:\n",
    "    bandstructure = m.get_bandstructure_by_material_id(\"mp-665\")\n",
    "band_gap = bandstructure.get_band_gap()\n",
    "print(band_gap)"
   ]
  },
  {
   "cell_type": "code",
   "execution_count": 7,
   "metadata": {},
   "outputs": [
    {
     "data": {
      "text/latex": [
       "On voit que la bande n'est pas direct, ce qui veut dire que le maximum de la bande de valance n'est pas alligné avec le minimum de la bande de conduction\\\\\n",
       "La bande interdite a une largeur de 0.7018 eV\n"
      ],
      "text/plain": [
       "<IPython.core.display.Latex object>"
      ]
     },
     "metadata": {},
     "output_type": "display_data"
    }
   ],
   "source": [
    "%%latex\n",
    "On voit que la bande n'est pas direct, ce qui veut dire que le maximum de la bande de valance n'est pas alligné avec le minimum de la bande de conduction\\\\\n",
    "La bande interdite a une largeur de 0.7018 eV"
   ]
  },
  {
   "cell_type": "code",
   "execution_count": null,
   "metadata": {},
   "outputs": [],
   "source": []
  }
 ],
 "metadata": {
  "kernelspec": {
   "display_name": "Python 3",
   "language": "python",
   "name": "python3"
  },
  "language_info": {
   "codemirror_mode": {
    "name": "ipython",
    "version": 3
   },
   "file_extension": ".py",
   "mimetype": "text/x-python",
   "name": "python",
   "nbconvert_exporter": "python",
   "pygments_lexer": "ipython3",
   "version": "3.6.8"
  }
 },
 "nbformat": 4,
 "nbformat_minor": 2
}
