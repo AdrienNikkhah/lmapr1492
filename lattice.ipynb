{
 "cells": [
  {
   "cell_type": "code",
   "execution_count": 1,
   "metadata": {},
   "outputs": [
    {
     "name": "stdout",
     "output_type": "stream",
     "text": [
      "Vecteurs de base du réseau direct:\n",
      "3.873280 0.000000 0.000000\n",
      "-1.936640 3.354359 0.000000\n",
      "0.000000 0.000000 6.904745\n",
      "Vecteurs de base du réseau réciproque:\n",
      "1.622187 0.936570 0.000000\n",
      "0.000000 1.873140 0.000000\n",
      "0.000000 0.000000 0.909981\n",
      "Type de maille: hexagonal\n",
      "Système cristallin : trigonal\n",
      "Groupe ponctuel: -3m\n"
     ]
    }
   ],
   "source": [
    "from pymatgen.ext.matproj import MPRester\n",
    "from pymatgen.io.cif import CifWriter\n",
    "from pymatgen.symmetry.analyzer import SpacegroupAnalyzer\n",
    "\n",
    "def get_Cif():\n",
    "    cle_api = \"rdmkQ122BgAvNKpjopTO\"\n",
    "    id_mp = \"mp-665\"\n",
    "    with MPRester(cle_api) as l:\n",
    "        structure = l.get_structure_by_material_id(id_mp)\n",
    "        f = CifWriter(structure)\n",
    "        f.write_file(\"structure.cif\")\n",
    "        return structure\n",
    "structure = get_Cif()\n",
    "print(\"Vecteurs de base du réseau direct:\")\n",
    "print(structure.lattice)\n",
    "print(\"Vecteurs de base du réseau réciproque:\")\n",
    "print(structure.lattice.reciprocal_lattice)\n",
    "print(\"Type de maille: \" + SpacegroupAnalyzer(structure).get_lattice_type())\n",
    "print(\"Système cristallin : \" + SpacegroupAnalyzer(structure).get_crystal_system())\n",
    "print(\"Groupe ponctuel: \" + SpacegroupAnalyzer(structure).get_point_group_symbol())"
   ]
  },
  {
   "cell_type": "code",
   "execution_count": null,
   "metadata": {},
   "outputs": [],
   "source": []
  }
 ],
 "metadata": {
  "kernelspec": {
   "display_name": "Python 3",
   "language": "python",
   "name": "python3"
  },
  "language_info": {
   "codemirror_mode": {
    "name": "ipython",
    "version": 3
   },
   "file_extension": ".py",
   "mimetype": "text/x-python",
   "name": "python",
   "nbconvert_exporter": "python",
   "pygments_lexer": "ipython3",
   "version": "3.6.8"
  }
 },
 "nbformat": 4,
 "nbformat_minor": 2
}
